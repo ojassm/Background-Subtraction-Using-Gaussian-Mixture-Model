{
 "cells": [
  {
   "cell_type": "code",
   "execution_count": 60,
   "metadata": {},
   "outputs": [],
   "source": [
    "import numpy as np\n",
    "import matplotlib.pyplot as plt\n",
    "import cv2\n",
    "from scipy.stats import multivariate_normal\n",
    "import os"
   ]
  },
  {
   "cell_type": "markdown",
   "metadata": {},
   "source": [
    "Initializing the variables- mean, variances and weights. As pixel scale goes from 0-255, we choose mean around 125. Also, as sum of weights should be 1, we initalize them with same values. Chose a random value of 30 for variances."
   ]
  },
  {
   "cell_type": "code",
   "execution_count": 33,
   "metadata": {},
   "outputs": [],
   "source": [
    "def initializer(height,width,n_gauss,threshold,lrate):\n",
    "    means=np.zeros((height,width,n_gauss,3) )\n",
    "    variances=np.zeros((height,width,n_gauss))\n",
    "    weights=np.zeros((height,width,n_gauss))\n",
    "    for h in range(height):\n",
    "        for w in range(width):\n",
    "            means[h,w]=np.array([[120, 120, 120]]*n_gauss)\n",
    "            weights[h,w]=[1.0/n_gauss]*n_gauss\n",
    "            variances[h,w]=[30.0]*n_gauss\n",
    "    return means, variances, weights\n",
    "    "
   ]
  },
  {
   "cell_type": "markdown",
   "metadata": {},
   "source": [
    "This function sorts the Gaussian models GMs by the ratio of weight/SD. Then it finds if sum of weights of first b is greater than the threshold. If yes, that means that the GM is in the background model. "
   ]
  },
  {
   "cell_type": "code",
   "execution_count": null,
   "metadata": {
    "code_folding": []
   },
   "outputs": [],
   "source": [
    "def sorter(height,width,n_gauss,threshold,means, variances, weights):\n",
    "    #intialize status matrix\n",
    "    B=np.zeros((height,width))\n",
    "    for h in range(height):\n",
    "        for w in range(width):\n",
    "            B[h,w]=-1\n",
    "            ratios=[0,0,0]\n",
    "            for k in range(n_gauss):\n",
    "                #ratio for kth GM is given by weight/ SD\n",
    "                ratios[k]=(weights[h,w,k]/np.sqrt(variances[h,w,k]))\n",
    "                #sort the GMs by ratios and reverse it as the list will be ascending sorted while we need descending order.\n",
    "                indices=np.array(np.argsort(ratios)[::-1])\n",
    "                #arrange the corresponding means variances and weights of the GMs in sorted order.\n",
    "                means[h,w,:]=means[h,w,[indices]]\n",
    "                variances[h,w,:]=variances[h,w,[indices]]\n",
    "                weights[h,w,:]=weights[h,w,[indices]]\n",
    "                sum_weights=0\n",
    "                \n",
    "                for l in range(n_gauss):\n",
    "                    sum_weights=weights[h,w,l]\n",
    "                    #checks if the sum of the weights of the GMs is above the threshold.\n",
    "                    if sum_weights>=threshold:\n",
    "                        B[h,w]=l\n",
    "                        break\n",
    "                #if no background detected,make last GM as foreground.\n",
    "                if B[h,w]==-1:\n",
    "                    B[h,w]=n_gauss-2\n",
    "        return B"
   ]
  },
  {
   "cell_type": "markdown",
   "metadata": {},
   "source": [
    "This function updates the models according to the current intensity xt. "
   ]
  },
  {
   "cell_type": "code",
   "execution_count": 53,
   "metadata": {
    "code_folding": []
   },
   "outputs": [],
   "source": [
    "def updates(frame, B,height,width,lrate,means, weights,variances):\n",
    "        #initalize label matrix for every pixel\n",
    "        classes=np.zeros((height,width))\n",
    "        for h in range(height):\n",
    "            for w in range(width):\n",
    "                #current frame of the video\n",
    "                X=frame[h,w]\n",
    "                M=-1\n",
    "                for k in range(n_gauss):\n",
    "                    #inverse of the covariance matrix. Assuming that all channels are independent, so that C is an identity matrix.\n",
    "                    C_inv=np.linalg.inv(variances[h,w,k]*np.eye(3))\n",
    "                    #subtracting mean from X: X-u\n",
    "                    X_normalized=X-means[h,w,k]\n",
    "                    #finding the Mahalonobis distance square\n",
    "                    distance=np.dot(X_normalized.T, np.dot(C_inv, X_normalized))\n",
    "                    #if distance is below 2.5^2 * variance sigma^2, a atch with a GM of index l is found\n",
    "                    if distance<6.25*variances[h,w,k]:\n",
    "                        M=k\n",
    "                        break\n",
    "                #Update parameters if match is found\n",
    "                if M!=-1:  \n",
    "                    weights[h,w]=(1.0-lrate)*weights[h,w]\n",
    "                    weights[h,w,M]+=lrate\n",
    "                    R=lrate * multivariate_normal.pdf(X,means[h,w,M],np.linalg.inv(C_inv))\n",
    "                    variances[M]=(1.0-R)*variances[h,w,M]+R*np.dot((X-means[h,w,M]).T, (X-means[h,w,M]))\n",
    "                    means[h,w,M]=(1.0-R)*means[h,w,M]+R*X\n",
    "                    #label the current x pixel\n",
    "                    if M>B[h,w]:\n",
    "                        classes[h,w]=250\n",
    "                else:\n",
    "                    means[h,w,-1]=X\n",
    "                    classes[h,w]=250\n",
    "        return classes"
   ]
  },
  {
   "cell_type": "markdown",
   "metadata": {},
   "source": [
    "Test function to analyse input frames and create output."
   ]
  },
  {
   "cell_type": "code",
   "execution_count": 83,
   "metadata": {
    "code_folding": []
   },
   "outputs": [],
   "source": [
    "def test(height,width,n_gauss,lrate,threshold,weights,means,variances):\n",
    "        #load the test video\n",
    "        cap=cv2.VideoCapture(r'C:/Users/Admin/Downloads/videoplayback_Trim_new.mp4')\n",
    "        cap.set(3,width)\n",
    "        cap.set(4,height)\n",
    "        n_frame=0\n",
    "        #create output video\n",
    "        out = cv2.VideoWriter('C:/Users/Admin/Downloads/projectnewnew.avi',cv2.VideoWriter_fourcc(*'XVID'), 10, (height,width))\n",
    "        retval=1\n",
    "        while retval:\n",
    "            #capture a frame from the video\n",
    "            retval,frame=cap.read()\n",
    "            n_frame+=1\n",
    "            print(\"current frame: \", n_frame)\n",
    "            B=sorter(height,width,n_gauss,threshold,means, variances, weights)\n",
    "            classes=updates(frame, B,height,width,lrate,means, weights,variances)\n",
    "            #write the output frame to the video\n",
    "            out.write(classes)\n",
    "            #also save the output frame\n",
    "            cv2.imwrite( \"frame{}.png\".format(n_frame), classes );\n",
    "        out.release()\n",
    "        cap.release()\n",
    "        cv2.destroyAllWindows()"
   ]
  },
  {
   "cell_type": "code",
   "execution_count": 84,
   "metadata": {},
   "outputs": [],
   "source": [
    "height=240\n",
    "width=320\n",
    "lrate=0.02\n",
    "n_gauss=3\n",
    "threshold=0.9\n",
    "means, variances, weights=initializer(height,width,n_gauss,threshold,lrate)"
   ]
  },
  {
   "cell_type": "code",
   "execution_count": null,
   "metadata": {
    "scrolled": true
   },
   "outputs": [
    {
     "name": "stdout",
     "output_type": "stream",
     "text": [
      "current frame:  1\n",
      "current frame:  2\n",
      "current frame:  3\n",
      "current frame:  4\n",
      "current frame:  5\n",
      "current frame:  6\n",
      "current frame:  7\n",
      "current frame:  8\n",
      "current frame:  9\n",
      "current frame:  10\n",
      "current frame:  11\n",
      "current frame:  12\n",
      "current frame:  13\n",
      "current frame:  14\n",
      "current frame:  15\n",
      "current frame:  16\n",
      "current frame:  17\n",
      "current frame:  18\n",
      "current frame:  19\n",
      "current frame:  20\n",
      "current frame:  21\n",
      "current frame:  22\n",
      "current frame:  23\n",
      "current frame:  24\n",
      "current frame:  25\n",
      "current frame:  26\n",
      "current frame:  27\n",
      "current frame:  28\n",
      "current frame:  29\n",
      "current frame:  30\n",
      "current frame:  31\n",
      "current frame:  32\n",
      "current frame:  33\n",
      "current frame:  34\n",
      "current frame:  35\n",
      "current frame:  36\n",
      "current frame:  37\n",
      "current frame:  38\n",
      "current frame:  39\n",
      "current frame:  40\n",
      "current frame:  41\n",
      "current frame:  42\n",
      "current frame:  43\n",
      "current frame:  44\n",
      "current frame:  45\n",
      "current frame:  46\n",
      "current frame:  47\n",
      "current frame:  48\n",
      "current frame:  49\n",
      "current frame:  50\n",
      "current frame:  51\n",
      "current frame:  52\n",
      "current frame:  53\n",
      "current frame:  54\n",
      "current frame:  55\n",
      "current frame:  56\n",
      "current frame:  57\n",
      "current frame:  58\n",
      "current frame:  59\n",
      "current frame:  60\n",
      "current frame:  61\n",
      "current frame:  62\n",
      "current frame:  63\n",
      "current frame:  64\n",
      "current frame:  65\n",
      "current frame:  66\n",
      "current frame:  67\n",
      "current frame:  68\n",
      "current frame:  69\n",
      "current frame:  70\n",
      "current frame:  71\n",
      "current frame:  72\n",
      "current frame:  73\n",
      "current frame:  74\n",
      "current frame:  75\n",
      "current frame:  76\n",
      "current frame:  77\n",
      "current frame:  78\n",
      "current frame:  79\n",
      "current frame:  80\n",
      "current frame:  81\n",
      "current frame:  82\n",
      "current frame:  83\n",
      "current frame:  84\n",
      "current frame:  85\n",
      "current frame:  86\n",
      "current frame:  87\n",
      "current frame:  88\n",
      "current frame:  89\n",
      "current frame:  90\n",
      "current frame:  91\n",
      "current frame:  92\n",
      "current frame:  93\n",
      "current frame:  94\n",
      "current frame:  95\n",
      "current frame:  96\n",
      "current frame:  97\n",
      "current frame:  98\n",
      "current frame:  99\n",
      "current frame:  100\n",
      "current frame:  101\n",
      "current frame:  102\n",
      "current frame:  103\n",
      "current frame:  104\n",
      "current frame:  105\n",
      "current frame:  106\n",
      "current frame:  107\n",
      "current frame:  108\n",
      "current frame:  109\n",
      "current frame:  110\n",
      "current frame:  111\n",
      "current frame:  112\n",
      "current frame:  113\n",
      "current frame:  114\n",
      "current frame:  115\n",
      "current frame:  116\n"
     ]
    }
   ],
   "source": [
    "test(height,width,n_gauss,lrate,threshold,weights,means,variances)"
   ]
  }
 ],
 "metadata": {
  "kernelspec": {
   "display_name": "Python 3",
   "language": "python",
   "name": "python3"
  },
  "language_info": {
   "codemirror_mode": {
    "name": "ipython",
    "version": 3
   },
   "file_extension": ".py",
   "mimetype": "text/x-python",
   "name": "python",
   "nbconvert_exporter": "python",
   "pygments_lexer": "ipython3",
   "version": "3.7.3"
  }
 },
 "nbformat": 4,
 "nbformat_minor": 2
}
